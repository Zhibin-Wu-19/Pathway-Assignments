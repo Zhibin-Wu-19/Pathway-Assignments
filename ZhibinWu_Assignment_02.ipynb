{
 "cells": [
  {
   "cell_type": "markdown",
   "id": "96f8934a-a961-4ad0-b85f-c87e5f32e9c0",
   "metadata": {},
   "source": [
    "**Zhibin Wu**"
   ]
  },
  {
   "cell_type": "markdown",
   "id": "c9a85573-fe47-4cec-aa28-40b9b8646364",
   "metadata": {},
   "source": [
    "#### 2025/09/07 ####"
   ]
  },
  {
   "cell_type": "markdown",
   "id": "9e44f70f-6e1b-4aff-9ac2-0be4e83df708",
   "metadata": {},
   "source": [
    "#### Question 1 ####"
   ]
  },
  {
   "cell_type": "code",
   "execution_count": 1,
   "id": "c8a98bf3-6dca-4b4a-962b-dd752ae930f6",
   "metadata": {},
   "outputs": [
    {
     "name": "stdout",
     "output_type": "stream",
     "text": [
      "The result of the calculation was:\n",
      "            149769            \n"
     ]
    }
   ],
   "source": [
    "numberOne = 100\n",
    "numberTwo = 29\n",
    "sumAndMultiply = ((numberOne + numberTwo) * 3)\n",
    "totalResult = (pow(sumAndMultiply, 2))\n",
    "print(\"The result of the calculation was:\")\n",
    "\n",
    "space = 30\n",
    "\"\"\" \n",
    "Teacher mentioned that we should \n",
    "make the result exactly like the one in the question file.\n",
    "So I use center().\n",
    "\"\"\" \n",
    "print(str(totalResult).center(space))"
   ]
  },
  {
   "cell_type": "markdown",
   "id": "77df2d3f-caab-442f-b084-05159945f825",
   "metadata": {},
   "source": [
    "#### Question 2 ####"
   ]
  },
  {
   "cell_type": "code",
   "execution_count": 2,
   "id": "5f83a873-45b7-46b7-abc5-2cbafa2825a9",
   "metadata": {},
   "outputs": [
    {
     "name": "stdin",
     "output_type": "stream",
     "text": [
      "Name: John\n",
      "Year of birth: 1995\n",
      "Age: 26\n"
     ]
    },
    {
     "name": "stdout",
     "output_type": "stream",
     "text": [
      "Password: 95Joh676\n"
     ]
    }
   ],
   "source": [
    "yourName = input(\"Name:\")\n",
    "birthYear = int(input(\"Year of birth:\"))\n",
    "yourAge = int(input(\"Age:\"))\n",
    "\n",
    "exponent = (pow(yourAge, 2))\n",
    "print(\"Password: \" + str(birthYear)[2:4] + yourName[0:3] + str(exponent))"
   ]
  },
  {
   "cell_type": "markdown",
   "id": "f838d848-fefd-4c4d-88fb-a1baef974699",
   "metadata": {},
   "source": [
    "#### Question 3 ####"
   ]
  },
  {
   "cell_type": "code",
   "execution_count": 3,
   "id": "1840bf1c-7f14-4e61-9aef-f0cfbd52941c",
   "metadata": {},
   "outputs": [
    {
     "name": "stdin",
     "output_type": "stream",
     "text": [
      "First number: 5\n",
      "Second number: 6\n"
     ]
    },
    {
     "name": "stdout",
     "output_type": "stream",
     "text": [
      "One of the numbers is even\n"
     ]
    }
   ],
   "source": [
    "firstNumber = int(input(\"First number:\"))\n",
    "secondNumber = int(input(\"Second number:\"))\n",
    "\n",
    "if firstNumber % 2 == 0 and secondNumber % 2 == 0:\n",
    "    print(\"Both numbers are even.\")\n",
    "elif firstNumber % 2 == 0 or secondNumber % 2 == 0:\n",
    "    print(\"One of the numbers is even\")\n",
    "else:\n",
    "    print(\"Both numbers are odd\")"
   ]
  },
  {
   "cell_type": "markdown",
   "id": "5f3d60eb-4dc8-4d3a-8ff4-ada096987a2d",
   "metadata": {},
   "source": [
    "#### Question 4 ####"
   ]
  },
  {
   "cell_type": "code",
   "execution_count": 4,
   "id": "0dae49fb-c12e-4165-a06e-8aea10f7718c",
   "metadata": {},
   "outputs": [
    {
     "name": "stdin",
     "output_type": "stream",
     "text": [
      "Give an integer: 5\n"
     ]
    },
    {
     "name": "stdout",
     "output_type": "stream",
     "text": [
      "The sum was: 10\n"
     ]
    }
   ],
   "source": [
    "numberFromUser = int(input(\"Give an integer:\"))\n",
    "sumNumber = 0\n",
    "for initial in range(numberFromUser):\n",
    "    sumNumber += initial\n",
    "print(\"The sum was: \" + str(sumNumber))\n"
   ]
  },
  {
   "cell_type": "markdown",
   "id": "fd6c474a-7b93-4441-bd7c-12a293521da7",
   "metadata": {},
   "source": [
    "#### Question 5 ####"
   ]
  },
  {
   "cell_type": "code",
   "execution_count": 5,
   "id": "8b4f660a-414c-4ef4-b143-f2af74141c53",
   "metadata": {},
   "outputs": [
    {
     "name": "stdin",
     "output_type": "stream",
     "text": [
      "Player:  6\n"
     ]
    },
    {
     "name": "stdout",
     "output_type": "stream",
     "text": [
      "Try a greater number.\n"
     ]
    },
    {
     "name": "stdin",
     "output_type": "stream",
     "text": [
      "Player:  8\n"
     ]
    },
    {
     "name": "stdout",
     "output_type": "stream",
     "text": [
      "Try a greater number.\n"
     ]
    },
    {
     "name": "stdin",
     "output_type": "stream",
     "text": [
      "Player:  9\n"
     ]
    },
    {
     "name": "stdout",
     "output_type": "stream",
     "text": [
      "That’s right! Number of tries: 3\n"
     ]
    }
   ],
   "source": [
    "import random\n",
    "randomNumber = random.randint(1, 10)\n",
    "guessNumber = 0\n",
    "timeOfTries = 0\n",
    "\n",
    "while guessNumber != randomNumber:\n",
    "    guessNumber = int(input(\"Player: \"))\n",
    "    timeOfTries += 1\n",
    "    if guessNumber < randomNumber:\n",
    "        print(\"Try a greater number.\")\n",
    "    elif guessNumber > randomNumber:\n",
    "        print(\"Try a smaller number.\")\n",
    "    else:\n",
    "        print(\"That’s right! Number of tries: \" + str(timeOfTries))\n",
    "    "
   ]
  },
  {
   "cell_type": "markdown",
   "id": "ab2ef55e-cc82-43c0-8395-48950ede3807",
   "metadata": {},
   "source": [
    "#### Bonus Question ####"
   ]
  },
  {
   "cell_type": "code",
   "execution_count": 6,
   "id": "9c4dc64e-1ecf-4c01-862e-d331c7bd7cca",
   "metadata": {},
   "outputs": [
    {
     "name": "stdin",
     "output_type": "stream",
     "text": [
      "Player1: 5\n"
     ]
    },
    {
     "name": "stdout",
     "output_type": "stream",
     "text": [
      "Try a greater number.\n"
     ]
    },
    {
     "name": "stdin",
     "output_type": "stream",
     "text": [
      "Player1: 8\n"
     ]
    },
    {
     "name": "stdout",
     "output_type": "stream",
     "text": [
      "Try a greater number.\n"
     ]
    },
    {
     "name": "stdin",
     "output_type": "stream",
     "text": [
      "Player1: 9\n"
     ]
    },
    {
     "name": "stdout",
     "output_type": "stream",
     "text": [
      "Try a greater number.\n"
     ]
    },
    {
     "name": "stdin",
     "output_type": "stream",
     "text": [
      "Player1: 10\n"
     ]
    },
    {
     "name": "stdout",
     "output_type": "stream",
     "text": [
      "That’s right! Number of tries: 4\n",
      "\n",
      "\n"
     ]
    },
    {
     "name": "stdin",
     "output_type": "stream",
     "text": [
      "Player2: 4\n"
     ]
    },
    {
     "name": "stdout",
     "output_type": "stream",
     "text": [
      "That’s right! Number of tries: 1\n",
      "\n",
      "\n",
      "Winner is Player2\n"
     ]
    }
   ],
   "source": [
    "import random\n",
    "\n",
    "# The one-line code below sets up a random number for the first user.\n",
    "randomNumber_firstPerson = random.randint(1, 10)\n",
    "\n",
    "# Below are the steps showing how the first person guesses the number.\n",
    "guessNumber_firstPerson = 0\n",
    "timeOfTries_firstPerson = 0\n",
    "while guessNumber_firstPerson != randomNumber_firstPerson:\n",
    "    guessNumber_firstPerson = int(input(\"Player1:\"))\n",
    "    timeOfTries_firstPerson += 1\n",
    "    if guessNumber_firstPerson < randomNumber_firstPerson:\n",
    "        print(\"Try a greater number.\")\n",
    "    elif guessNumber_firstPerson > randomNumber_firstPerson:\n",
    "        print(\"Try a smaller number.\")\n",
    "    else:\n",
    "        print(\"That’s right! Number of tries: \" + str(timeOfTries_firstPerson))\n",
    "\n",
    "print() # an empty output to separate results from two users visually in the output section.\n",
    "print() # an empty output to separate results from two users visually in the output section.\n",
    "\n",
    "\"\"\" \n",
    "The line below sets up a random number for the second user, \n",
    "because I simulate two users at the same time to play the game, \n",
    "I need the game to be really random.\n",
    "\"\"\"\n",
    "randomNumber_secondPerson = random.randint(1, 10)\n",
    "\n",
    "# Below are the steps showing how the second person guesses the number.\n",
    "guessNumber_secondPerson = 0\n",
    "timeOfTries_secondPerson = 0\n",
    "while guessNumber_secondPerson != randomNumber_secondPerson:\n",
    "    guessNumber_secondPerson = int(input(\"Player2:\"))\n",
    "    timeOfTries_secondPerson += 1\n",
    "    if guessNumber_secondPerson < randomNumber_secondPerson:\n",
    "        print(\"Try a greater number.\")\n",
    "    elif guessNumber_secondPerson > randomNumber_secondPerson:\n",
    "        print(\"Try a smaller number.\")\n",
    "    else:\n",
    "        print(\"That’s right! Number of tries: \" + str(timeOfTries_secondPerson))\n",
    "\n",
    "print() # an empty output to separate the number results and the winning result visually.\n",
    "print() # an empty output to separate the number results and the winning result visually.\n",
    "\n",
    "if timeOfTries_firstPerson < timeOfTries_secondPerson:\n",
    "    print(\"Winner is Player1\")\n",
    "elif timeOfTries_firstPerson > timeOfTries_secondPerson:\n",
    "    print(\"Winner is Player2\")\n",
    "else:\n",
    "    print(\"They are equal\")\n"
   ]
  },
  {
   "cell_type": "code",
   "execution_count": 7,
   "id": "df302e15-8c1e-45b0-a048-2cbfdc67fc47",
   "metadata": {},
   "outputs": [],
   "source": [
    "# Last time when my Jupyter notebook on Anaconda convert code into html file, it only shows the last line of results in output section. This time I use Homebrew and Mactex in my terminal, so it is able to convert file into PDF with all the lines of results in output section."
   ]
  }
 ],
 "metadata": {
  "kernelspec": {
   "display_name": "Python 3 (ipykernel)",
   "language": "python",
   "name": "python3"
  },
  "language_info": {
   "codemirror_mode": {
    "name": "ipython",
    "version": 3
   },
   "file_extension": ".py",
   "mimetype": "text/x-python",
   "name": "python",
   "nbconvert_exporter": "python",
   "pygments_lexer": "ipython3",
   "version": "3.13.5"
  }
 },
 "nbformat": 4,
 "nbformat_minor": 5
}
